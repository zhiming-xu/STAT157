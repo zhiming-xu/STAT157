{
 "cells": [
  {
   "cell_type": "markdown",
   "metadata": {},
   "source": [
    "#  Homework 9 - Berkeley STAT 157\n",
    "\n",
    "**Your name: XX, SID YY, teammates A,B,C** (Please add your name, SID and teammates to ease Ryan and Rachel to grade.)\n",
    "\n",
    "**Please submit your homework through [gradescope](http://gradescope.com/)**\n",
    "\n",
    "Handout 4/18/2019, due 4/25/2019 by 4pm.\n",
    "\n",
    "This homework deals with sequence models for numbers. It builds on Homework 8 in terms of modeling. The main difference to last week is that we're modeling *real valued numbers* of stocks rather than characters. \n",
    "\n",
    "**This is teamwork.**"
   ]
  },
  {
   "cell_type": "code",
   "execution_count": 102,
   "metadata": {},
   "outputs": [],
   "source": [
    "import d2l\n",
    "import math\n",
    "import mxnet as mx\n",
    "from mxnet import autograd, gluon, init, nd\n",
    "from mxnet.gluon import loss as gloss, nn, rnn\n",
    "from mxnet.gluon import data as gdata\n",
    "import time\n",
    "import pandas as pd\n",
    "import matplotlib.pyplot as plt\n",
    "import seaborn as sns\n",
    "import numpy as np\n",
    "from scipy.stats import norm\n",
    "from sklearn.preprocessing import StandardScaler\n",
    "from scipy import stats\n",
    "import warnings\n",
    "warnings.filterwarnings('ignore')\n",
    "%matplotlib inline"
   ]
  },
  {
   "cell_type": "markdown",
   "metadata": {},
   "source": [
    "## 1. Time Series Model\n",
    "\n",
    "The goal is to develop multivariate regression models where the numbers are *nonnegative* and where changes are *relative*. That is, a stock price can never assume negative values and for convenience we assume that the companies listed do not go bankrupt, i.e. their stock price will never be zero. Moreover, we assume that we can ignore quantization of prices, i.e. the fact that stocks aren't traded at arbitrary prices in $\\mathbb{R}$ but only at fractions of a cent (see [this link for a backstory](https://www.investopedia.com/ask/answers/why-nyse-switch-fractions-to-decimals/)). \n",
    "\n",
    "The prices $x_{st}$ for a security $s$ at time $t$ typically reported at a given date are `(open, high, low, close, volume)`. Here `open` denotes the price when the market opens, `high` the highest price that it was traded for during that day, `low` the lowest, and `close` is the price of the security at closing. Lastly `volume` is an indicator for how many units were sold at that day. We index the respective values with $x_{st} = (o, h, l, c, v) \\in \\mathbb{R}^{5}$. To process them we transform $x_{st}$ as follows:\n",
    "\n",
    "$$z_{st} := \\left(\\log o, 10 \\cdot (\\log h - \\log o), 100 \\cdot (\\log l - \\log o), \\log c, \\log v\\right)$$\n",
    "\n",
    "Moreover, we assume that $z_{st}$ is obtained as part of a regression problem with squared loss, i.e.\\ for an estimate $\\hat{z}_{st}$ we compute the loss as \n",
    "\n",
    "$$l(z_{st}, \\hat{z}_{st}) = \\frac{1}{2} \\|z_{st} - \\hat{z}_{st}\\|^2$$\n",
    "\n",
    "1. Why is converting values into logarithms (and logarithms of ratios) a good idea? Explain this for each variable.\n",
    "1. Why would we want to rescale the ratios by 10?\n",
    "1. Explain why this model assumes a *lognormal* distribution of prediction errors between the values of the securities ${z}_{st}$ and their estimates $\\hat{z}_{st}$. That is, rather than being drawn from a Gaussian, they're drawn from another distribution. Characterize it (hint - exploit the connection between squared loss and the normal distribution).\n",
    "1. Now assume that we have not just one security but the top 500 stocks over some period of time. Why might it make \n",
    "   sense to estimate the share prices jointly? "
   ]
  },
  {
   "cell_type": "markdown",
   "metadata": {},
   "source": [
    "## Solution"
   ]
  },
  {
   "cell_type": "markdown",
   "metadata": {},
   "source": [
    "* Problem 1: Why log    \n",
    "Generally speaking, log-scale informs on relative changes (multiplicative), while linear-scale informs on absolute changes (additive). And we care about the relative change in the analysis of this question.\n",
    "    1. $\\log(o)$: From the distribution of the price when market opens of the five years, we could tell that the distribution is not normal. Therefore, logrithm    \n",
    "    2. $\\log(h) - \\log(o)$: The form is to capture the proportional change of highest price for that day with respect to the \n",
    "    3.    \n",
    "     \n",
    "        \n",
    "        \n",
    "* Problem 2: Why would we want to rescale the ratios by 10?"
   ]
  },
  {
   "cell_type": "code",
   "execution_count": 107,
   "metadata": {},
   "outputs": [
    {
     "data": {
      "text/html": [
       "<div>\n",
       "<style scoped>\n",
       "    .dataframe tbody tr th:only-of-type {\n",
       "        vertical-align: middle;\n",
       "    }\n",
       "\n",
       "    .dataframe tbody tr th {\n",
       "        vertical-align: top;\n",
       "    }\n",
       "\n",
       "    .dataframe thead th {\n",
       "        text-align: right;\n",
       "    }\n",
       "</style>\n",
       "<table border=\"1\" class=\"dataframe\">\n",
       "  <thead>\n",
       "    <tr style=\"text-align: right;\">\n",
       "      <th></th>\n",
       "      <th>open</th>\n",
       "      <th>high</th>\n",
       "      <th>low</th>\n",
       "      <th>close</th>\n",
       "      <th>volume</th>\n",
       "    </tr>\n",
       "  </thead>\n",
       "  <tbody>\n",
       "    <tr>\n",
       "      <th>count</th>\n",
       "      <td>619029.000000</td>\n",
       "      <td>619032.000000</td>\n",
       "      <td>619032.000000</td>\n",
       "      <td>619040.000000</td>\n",
       "      <td>6.190400e+05</td>\n",
       "    </tr>\n",
       "    <tr>\n",
       "      <th>mean</th>\n",
       "      <td>83.023334</td>\n",
       "      <td>83.778311</td>\n",
       "      <td>82.256096</td>\n",
       "      <td>83.043763</td>\n",
       "      <td>4.321823e+06</td>\n",
       "    </tr>\n",
       "    <tr>\n",
       "      <th>std</th>\n",
       "      <td>97.378769</td>\n",
       "      <td>98.207519</td>\n",
       "      <td>96.507421</td>\n",
       "      <td>97.389748</td>\n",
       "      <td>8.693610e+06</td>\n",
       "    </tr>\n",
       "    <tr>\n",
       "      <th>min</th>\n",
       "      <td>1.620000</td>\n",
       "      <td>1.690000</td>\n",
       "      <td>1.500000</td>\n",
       "      <td>1.590000</td>\n",
       "      <td>0.000000e+00</td>\n",
       "    </tr>\n",
       "    <tr>\n",
       "      <th>25%</th>\n",
       "      <td>40.220000</td>\n",
       "      <td>40.620000</td>\n",
       "      <td>39.830000</td>\n",
       "      <td>40.245000</td>\n",
       "      <td>1.070320e+06</td>\n",
       "    </tr>\n",
       "    <tr>\n",
       "      <th>50%</th>\n",
       "      <td>62.590000</td>\n",
       "      <td>63.150000</td>\n",
       "      <td>62.020000</td>\n",
       "      <td>62.620000</td>\n",
       "      <td>2.082094e+06</td>\n",
       "    </tr>\n",
       "    <tr>\n",
       "      <th>75%</th>\n",
       "      <td>94.370000</td>\n",
       "      <td>95.180000</td>\n",
       "      <td>93.540000</td>\n",
       "      <td>94.410000</td>\n",
       "      <td>4.284509e+06</td>\n",
       "    </tr>\n",
       "    <tr>\n",
       "      <th>max</th>\n",
       "      <td>2044.000000</td>\n",
       "      <td>2067.990000</td>\n",
       "      <td>2035.110000</td>\n",
       "      <td>2049.000000</td>\n",
       "      <td>6.182376e+08</td>\n",
       "    </tr>\n",
       "  </tbody>\n",
       "</table>\n",
       "</div>"
      ],
      "text/plain": [
       "                open           high            low          close  \\\n",
       "count  619029.000000  619032.000000  619032.000000  619040.000000   \n",
       "mean       83.023334      83.778311      82.256096      83.043763   \n",
       "std        97.378769      98.207519      96.507421      97.389748   \n",
       "min         1.620000       1.690000       1.500000       1.590000   \n",
       "25%        40.220000      40.620000      39.830000      40.245000   \n",
       "50%        62.590000      63.150000      62.020000      62.620000   \n",
       "75%        94.370000      95.180000      93.540000      94.410000   \n",
       "max      2044.000000    2067.990000    2035.110000    2049.000000   \n",
       "\n",
       "             volume  \n",
       "count  6.190400e+05  \n",
       "mean   4.321823e+06  \n",
       "std    8.693610e+06  \n",
       "min    0.000000e+00  \n",
       "25%    1.070320e+06  \n",
       "50%    2.082094e+06  \n",
       "75%    4.284509e+06  \n",
       "max    6.182376e+08  "
      ]
     },
     "execution_count": 107,
     "metadata": {},
     "output_type": "execute_result"
    }
   ],
   "source": [
    "df = pd.read_csv('all_stocks_5yr.csv')\n",
    "df.describe()"
   ]
  },
  {
   "cell_type": "markdown",
   "metadata": {},
   "source": [
    "### Example of Logrithm"
   ]
  },
  {
   "cell_type": "code",
   "execution_count": 36,
   "metadata": {},
   "outputs": [
    {
     "data": {
      "image/png": "[encoded data removed]",
      "text/plain": [
       "<Figure size 1080x216 with 5 Axes>"
      ]
     },
     "metadata": {
      "needs_background": "light"
     },
     "output_type": "display_data"
    }
   ],
   "source": [
    "quantitative = [f for f in df1.columns[1:6]]\n",
    "f = pd.melt(df1, value_vars=quantitative)\n",
    "g = sns.FacetGrid(f, col=\"variable\",  col_wrap=5, sharex=False, sharey=False)\n",
    "g = g.map(sns.distplot, \"value\")\n",
    "plt.show()"
   ]
  },
  {
   "cell_type": "code",
   "execution_count": 51,
   "metadata": {},
   "outputs": [],
   "source": [
    "df2 = df1.copy()\n",
    "df2['open'] = np.log(df1['open'])\n",
    "df2['high'] = 10* (np.log(df1['high']) - np.log(df1['open']))\n",
    "df2['low'] = 10* (np.log(df1['low']) - np.log(df1['open']))\n",
    "df2['close'] = np.log(df1['close'])\n",
    "df2['volume'] = np.log(df1['volume'])"
   ]
  },
  {
   "cell_type": "code",
   "execution_count": 45,
   "metadata": {},
   "outputs": [
    {
     "data": {
      "image/png": "[encoded data removed]",
      "text/plain": [
       "<Figure size 1080x216 with 5 Axes>"
      ]
     },
     "metadata": {
      "needs_background": "light"
     },
     "output_type": "display_data"
    }
   ],
   "source": [
    "# with rescale 10\n",
    "quantitative = [f for f in df2.columns[1:6]]\n",
    "f = pd.melt(df1, value_vars=quantitative)\n",
    "g = sns.FacetGrid(f, col=\"variable\",  col_wrap=5, sharex=False, sharey=False)\n",
    "g = g.map(sns.distplot, \"value\")\n",
    "plt.show()"
   ]
  },
  {
   "cell_type": "code",
   "execution_count": 52,
   "metadata": {},
   "outputs": [
    {
     "data": {
      "image/png": "[encoded data removed]",
      "text/plain": [
       "<Figure size 1080x216 with 5 Axes>"
      ]
     },
     "metadata": {
      "needs_background": "light"
     },
     "output_type": "display_data"
    }
   ],
   "source": [
    "#without rescale\n",
    "quantitative = [f for f in df2.columns[1:6]]\n",
    "f = pd.melt(df2, value_vars=quantitative)\n",
    "g = sns.FacetGrid(f, col=\"variable\",  col_wrap=5, sharex=False, sharey=False)\n",
    "g = g.map(sns.distplot, \"value\")\n",
    "plt.show()"
   ]
  },
  {
   "cell_type": "markdown",
   "metadata": {},
   "source": [
    "## 2. Load Data\n",
    "\n",
    "1. Obtain data from the S&P500 for the past 5 years and convert it into a time series. You can get the data either from Kaggle [www.kaggle.com/camnugent/sandp500](https://www.kaggle.com/camnugent/sandp500) or crawl it directly using the Python script given here: [github.com/CNuge/kaggle-code/blob/master/stock_data/getSandP.py](https://github.com/CNuge/kaggle-code/blob/master/stock_data/getSandP.py). Your dataset will contain tuples of the form \n",
    "`(date, open, high, low, close, volume, Name)`. \n",
    "1. Import this data into an NDArray dataset where you have a vector containing `(open, high, low, close, volume)` for each security. That is, this is a 2,500 dimensional vector and you have 5 years' worth of data. \n",
    "1. Preprocess the data into logarithmic representation as outlined in problem 1.\n",
    "1. Split the data into observations for the first 4 years and a dataset for the last year. \n",
    "1. Load data into an MXNet dataset iterator.\n",
    "1. Why do you need to do this as opposed to splitting into random segments?"
   ]
  },
  {
   "cell_type": "code",
   "execution_count": 110,
   "metadata": {},
   "outputs": [],
   "source": [
    "df1 = df.ffill().copy()"
   ]
  },
  {
   "cell_type": "code",
   "execution_count": 113,
   "metadata": {},
   "outputs": [
    {
     "data": {
      "text/html": [
       "<div>\n",
       "<style scoped>\n",
       "    .dataframe tbody tr th:only-of-type {\n",
       "        vertical-align: middle;\n",
       "    }\n",
       "\n",
       "    .dataframe tbody tr th {\n",
       "        vertical-align: top;\n",
       "    }\n",
       "\n",
       "    .dataframe thead th {\n",
       "        text-align: right;\n",
       "    }\n",
       "</style>\n",
       "<table border=\"1\" class=\"dataframe\">\n",
       "  <thead>\n",
       "    <tr style=\"text-align: right;\">\n",
       "      <th></th>\n",
       "      <th>date</th>\n",
       "      <th>open</th>\n",
       "      <th>high</th>\n",
       "      <th>low</th>\n",
       "      <th>close</th>\n",
       "      <th>volume</th>\n",
       "      <th>Name</th>\n",
       "      <th>year</th>\n",
       "    </tr>\n",
       "  </thead>\n",
       "  <tbody>\n",
       "    <tr>\n",
       "      <th>0</th>\n",
       "      <td>2013-02-08</td>\n",
       "      <td>2.712706</td>\n",
       "      <td>17.180717</td>\n",
       "      <td>16.851275</td>\n",
       "      <td>2.691243</td>\n",
       "      <td>15.944635</td>\n",
       "      <td>AAL</td>\n",
       "      <td>2013</td>\n",
       "    </tr>\n",
       "    <tr>\n",
       "      <th>1</th>\n",
       "      <td>2013-02-11</td>\n",
       "      <td>2.700690</td>\n",
       "      <td>17.152094</td>\n",
       "      <td>16.639512</td>\n",
       "      <td>2.671386</td>\n",
       "      <td>15.999537</td>\n",
       "      <td>AAL</td>\n",
       "      <td>2013</td>\n",
       "    </tr>\n",
       "    <tr>\n",
       "      <th>2</th>\n",
       "      <td>2013-02-12</td>\n",
       "      <td>2.670694</td>\n",
       "      <td>16.924995</td>\n",
       "      <td>16.638363</td>\n",
       "      <td>2.658159</td>\n",
       "      <td>15.910579</td>\n",
       "      <td>AAL</td>\n",
       "      <td>2013</td>\n",
       "    </tr>\n",
       "    <tr>\n",
       "      <th>3</th>\n",
       "      <td>2013-02-13</td>\n",
       "      <td>2.660260</td>\n",
       "      <td>17.256185</td>\n",
       "      <td>16.783332</td>\n",
       "      <td>2.685123</td>\n",
       "      <td>16.143715</td>\n",
       "      <td>AAL</td>\n",
       "      <td>2013</td>\n",
       "    </tr>\n",
       "    <tr>\n",
       "      <th>4</th>\n",
       "      <td>2013-02-14</td>\n",
       "      <td>2.704042</td>\n",
       "      <td>17.106322</td>\n",
       "      <td>15.824342</td>\n",
       "      <td>2.638343</td>\n",
       "      <td>17.277486</td>\n",
       "      <td>AAL</td>\n",
       "      <td>2013</td>\n",
       "    </tr>\n",
       "  </tbody>\n",
       "</table>\n",
       "</div>"
      ],
      "text/plain": [
       "        date      open       high        low     close     volume Name  year\n",
       "0 2013-02-08  2.712706  17.180717  16.851275  2.691243  15.944635  AAL  2013\n",
       "1 2013-02-11  2.700690  17.152094  16.639512  2.671386  15.999537  AAL  2013\n",
       "2 2013-02-12  2.670694  16.924995  16.638363  2.658159  15.910579  AAL  2013\n",
       "3 2013-02-13  2.660260  17.256185  16.783332  2.685123  16.143715  AAL  2013\n",
       "4 2013-02-14  2.704042  17.106322  15.824342  2.638343  17.277486  AAL  2013"
      ]
     },
     "execution_count": 113,
     "metadata": {},
     "output_type": "execute_result"
    }
   ],
   "source": [
    "df1['open'] = np.log(df1['open'])\n",
    "df1['high'] = 10* (np.log(df1['high']) - np.log(df1['open']))\n",
    "df1['low'] = 10* (np.log(df1['low']) - np.log(df1['open']))\n",
    "df1['close'] = np.log(df1['close'])\n",
    "df1['volume'] = np.log(df1['volume'])\n",
    "df1.loc[:, 'date'] = pd.to_datetime(df1.loc[:,'date'], format=\"%Y/%m/%d\")\n",
    "df1['year'] = pd.DatetimeIndex(df1['date']).year\n",
    "df1.head()"
   ]
  },
  {
   "cell_type": "code",
   "execution_count": 114,
   "metadata": {},
   "outputs": [],
   "source": [
    "df2 = df1[df1['year'] == 2018]\n",
    "df2.to_csv (r'test.csv', index = None, header=True)\n",
    "df3 = df1[df1['year'] != 2018]\n",
    "df3.to_csv (r'train.csv', index = None, header=True)"
   ]
  },
  {
   "cell_type": "markdown",
   "metadata": {},
   "source": [
    "#### Generate Train Feature Matrix"
   ]
  },
  {
   "cell_type": "code",
   "execution_count": 115,
   "metadata": {},
   "outputs": [
    {
     "name": "stdout",
     "output_type": "stream",
     "text": [
      "train feature matrix: \n",
      " \n",
      "[[ 2.712706   2.7006898  2.6706944 ...  3.9665112  3.9598603  3.9592881]\n",
      " [17.180717  17.152094  16.924995  ... 25.901382  25.870775  25.908257 ]\n",
      " [16.851276  16.639511  16.638363  ... 25.7451    25.792568  25.753717 ]\n",
      " ...\n",
      " [ 0.         0.         0.        ... 28.25052   28.238503  28.2227   ]\n",
      " [ 0.         0.         0.        ...  4.2828965  4.2820683  4.2772217]\n",
      " [ 0.         0.         0.        ... 13.963733  13.473722  14.34856  ]]\n",
      "<NDArray 2525x1233 @cpu(0)>\n",
      "test feature matrix: \n",
      " \n",
      "[[ 3.9575698  3.9676468  3.960432  ...  3.9510515  3.8983297  3.9300594]\n",
      " [25.965467  25.894737  26.20011   ... 25.84734   25.810337  25.822044 ]\n",
      " [25.736887  25.741276  25.799738  ... 25.330288  25.269772  25.610119 ]\n",
      " ...\n",
      " [28.142883  28.150318  28.246767  ... 28.252508  28.229082  28.307703 ]\n",
      " [ 4.2734666  4.278054   4.2840004 ...  4.301765   4.2941513  4.302171 ]\n",
      " [14.574242  14.660737  14.745314  ... 14.901385  15.409698  15.327316 ]]\n",
      "<NDArray 2525x26 @cpu(0)>\n"
     ]
    }
   ],
   "source": [
    "def create_feature(df3):    \n",
    "    grouped = df3.groupby('date')\n",
    "    i = 0\n",
    "    price = nd.zeros((2525, len(grouped)))\n",
    "\n",
    "    for date, group in grouped:\n",
    "        rec = grouped.get_group(date).reset_index(drop = True)\n",
    "        a = rec.iloc[:,1:6].values.flatten()\n",
    "        price[:len(a),i] = a\n",
    "        i+=1\n",
    "    return price\n",
    "\n",
    "test_feature = create_feature(df2) #test\n",
    "train_feature = create_feature(df3) #train\n",
    "\n",
    "print('train feature matrix: \\n',train_feature)\n",
    "print('test feature matrix: \\n',test_feature)"
   ]
  },
  {
   "cell_type": "markdown",
   "metadata": {},
   "source": [
    "#### Data Loader and Iterator  \n",
    "* Why not randomly splitting? Because they are relevant with respect to time. "
   ]
  },
  {
   "cell_type": "code",
   "execution_count": 116,
   "metadata": {},
   "outputs": [],
   "source": [
    "train_data = gdata.dataset.ArrayDataset(train_feature)\n",
    "train_iter = gdata.DataLoader(train_data, batch_size = 64, shuffle = True)\n",
    "\n",
    "test_data = gdata.dataset.ArrayDataset(test_feature)\n",
    "test_iter = gdata.DataLoader(test_data, batch_size = 64, shuffle = True)"
   ]
  },
  {
   "cell_type": "markdown",
   "metadata": {},
   "source": [
    "## 3. Time Series Implementation\n",
    "\n",
    "1. Implement a model similar to `RNNModel` of section [d2l.ai/chapter_recurrent-neural-networks/rnn-gluon.html](http://en.d2l.ai/chapter_recurrent-neural-networks/rnn-gluon.html) suitable for regression. It should take as input vector-valued data, such as the time series mentioned above and it should output vector-valued data (of some other dimensionality).\n",
    "1. Train the model on the first 4 years of data using plain RNN, GRU and LSTM cells (for a single layer). How well can the model \n",
    "    * Predict the stock value the next day on the last 1 year of data (price at opening).\n",
    "    * Plot how the quality of the model degrades as we apply it throughout the year (i.e. we ingest all the data up to day $t$ and predict forward at day $t+1$). \n",
    "    * Predict the stock value the next week on the last 1 year of data (price at opening).\n",
    "1. Train the model on each stock separately (with much lower dimensionality) and compare the performance of the above model with the one you get by using each stock separately. \n",
    "1. Improve the model using better features, e.g. the fact that time is not uniformly spaced (Saturday, Sunday and holidays do not see any trades). For that use the day of the week as an additional input feature. \n",
    "1. Improve the model further by using a deeper RNN, e.g. with 2 layers. \n",
    "\n",
    "Note, there are many cases where we might want to know the *sequence* of stock prices over a period of time rather than just knowing the value, say one month from now. This is relevant e.g. for options pricing where investors can bet on or bet against volatility of a stock price. For a detailed description of this see e.g. [en.wikipedia.org/wiki/Options_strategy](https://en.wikipedia.org/wiki/Options_strategy)."
   ]
  },
  {
   "cell_type": "code",
   "execution_count": null,
   "metadata": {},
   "outputs": [],
   "source": []
  }
 ],
 "metadata": {
  "kernelspec": {
   "display_name": "Python 3",
   "language": "python",
   "name": "python3"
  },
  "language_info": {
   "codemirror_mode": {
    "name": "ipython",
    "version": 3
   },
   "file_extension": ".py",
   "mimetype": "text/x-python",
   "name": "python",
   "nbconvert_exporter": "python",
   "pygments_lexer": "ipython3",
   "version": "3.7.1"
  },
  "toc": {
   "base_numbering": 1,
   "nav_menu": {},
   "number_sections": true,
   "sideBar": true,
   "skip_h1_title": false,
   "title_cell": "Table of Contents",
   "title_sidebar": "Contents",
   "toc_cell": false,
   "toc_position": {},
   "toc_section_display": true,
   "toc_window_display": false
  }
 },
 "nbformat": 4,
 "nbformat_minor": 2
}
