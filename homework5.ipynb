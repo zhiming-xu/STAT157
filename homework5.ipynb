{
 "cells": [
  {
   "cell_type": "markdown",
   "metadata": {},
   "source": [
    "#  Homework 5 - Berkeley STAT 157\n",
    "\n",
    "**Your name: Zhiming, SID 3034485754** (Please add your name, and SID to ease Ryan and Rachel to grade.)\n",
    "\n",
    "**Please submit your homework through [gradescope](http://gradescope.com/) instead of Github, so you will get the score distribution for each question. Please enroll in the [class](https://www.gradescope.com/courses/42432) by the Entry code: MXG5G5** \n",
    "\n",
    "Handout 2/19/2019, due 2/26/2019 by 4pm in Git by committing to your repository.\n",
    "\n",
    "In this homework, we will model covariate shift and attempt to fix it using logistic regression. This is a fairly realistic scenario for data scientists. To keep things well under control and understandable we will use [Fashion-MNIST](http://d2l.ai/chapter_linear-networks/fashion-mnist.html) as the data to experiment on. \n",
    "\n",
    "Follow the instructions from the Fashion MNIST notebook to get the data."
   ]
  },
  {
   "cell_type": "code",
   "execution_count": 2,
   "metadata": {
    "ExecuteTime": {
     "end_time": "2019-02-12T19:52:59.411749Z",
     "start_time": "2019-02-12T19:52:28.081528Z"
    },
    "attributes": {
     "classes": [],
     "id": "",
     "n": "3"
    },
    "scrolled": true
   },
   "outputs": [],
   "source": [
    "%matplotlib inline\n",
    "from mxnet import autograd, gluon, init, nd\n",
    "from mxnet.gluon import data as gdata, loss as gloss, nn, utils\n",
    "import d2l\n",
    "import numpy as np\n",
    "import matplotlib.pyplot as plt\n",
    "import mxnet as mx\n",
    "import time"
   ]
  },
  {
   "cell_type": "markdown",
   "metadata": {},
   "source": [
    "## 1. Logistic Regression\n",
    "\n",
    "1. Implement the logistic loss function $l(y,f) = -\\log(1 + \\exp(-y f))$ in Gluon.\n",
    "2. Plot its values and its derivative for $y = 1$ and $f \\in [-5, 5]$, using automatic differentiation in Gluon.\n",
    "3. Generate training and test datasets for a binary classification problem using Fashion-MNIST with class $1$ being a combination of `shirt` and `sweater` and class $-1$ being the combination of `sandal` and `sneaker` categories. \n",
    "4. Train a binary classifier of your choice (it can be linear or a simple MLP such as from a previous lecture) using half the data (i.e. $12,000$ observations mixed as abvove) and one using the full dataset (i.e. $24,000$ observations as arising from the 4 categories) and report its accuracy. \n",
    "\n",
    "Hint - you should encapsulate the training and reporting code in a callable function since you'll need it quite a bit in the following. "
   ]
  },
  {
   "cell_type": "code",
   "execution_count": 4,
   "metadata": {},
   "outputs": [
    {
     "data": {
      "image/png": "[encoded data removed]",
      "text/plain": [
       "<Figure size 432x288 with 1 Axes>"
      ]
     },
     "metadata": {
      "needs_background": "light"
     },
     "output_type": "display_data"
    }
   ],
   "source": [
    "# for question 1 & 2\n",
    "def logistic_loss(f, y):\n",
    "    l = nd.log(1.0+nd.exp(-f*y))\n",
    "    return l\n",
    "f = nd.arange(-5, 5, 0.01)\n",
    "f.attach_grad()\n",
    "# for y = 1\n",
    "y = nd.ones(shape = f.shape)\n",
    "with autograd.record():\n",
    "    l = logistic_loss(f, y)\n",
    "l.backward()\n",
    "# for loss function\n",
    "plt.figure()\n",
    "plt.title('Logistic loss and its gradient (y=1)')\n",
    "plt.plot(f.asnumpy(), l.asnumpy(), color = 'r',\\\n",
    "         label = 'Loss function')\n",
    "# for grad\n",
    "plt.plot(f.asnumpy(), f.grad.asnumpy(), color = 'b',\\\n",
    "        label = 'Gradient')\n",
    "plt.legend(loc = 'upper right')\n",
    "plt.show()"
   ]
  },
  {
   "cell_type": "code",
   "execution_count": 9,
   "metadata": {},
   "outputs": [],
   "source": [
    "mnist_train = gdata.vision.FashionMNIST(train=True, transform = lambda data, label:\\\n",
    "                                        (data.astype(np.float32), label))\n",
    "mnist_test = gdata.vision.FashionMNIST(train=False, transform = lambda data, label:\\\n",
    "                                        (data.astype(np.float32), label))"
   ]
  },
  {
   "cell_type": "code",
   "execution_count": 13,
   "metadata": {},
   "outputs": [],
   "source": [
    "# for question 3\n",
    "#X, y = train[0:9]\n",
    "# pick out pullover/shirt, and sneaker/scandal\n",
    "# a new preprocess function, can produce biased dataset\n",
    "def preprocess(mnist_train, mnist_test, total_per_label, ratio): # ratio is the lambda above\n",
    "    X, y = mnist_train[:]\n",
    "    # pick up the indices\n",
    "    index_sweater = np.where(y==3)[0]\n",
    "    index_shirt = np.where(y==6)[0]\n",
    "    index_scandal = np.where(y==5)[0]\n",
    "    index_sneaker = np.where(y==7)[0]\n",
    "    # create the class for training, biased\n",
    "    class_sweater = X[index_sweater[0:round(total_per_label*ratio)]]\n",
    "    class_shirt = X[index_shirt[0:round(total_per_label*ratio)]]\n",
    "    class_scandal = X[index_scandal[0:round(total_per_label*(1-ratio))]]\n",
    "    class_sneaker = X[index_sneaker[0:round(total_per_label*(1-ratio))]]\n",
    "    # print(class_sweater.shape, class_shirt.shape, class_scandal.shape, class_sneaker.shape)\n",
    "    train_feature = nd.concat(class_sweater, class_shirt, class_scandal, class_sneaker, dim=0)\n",
    "    label1 = nd.ones((1, total_per_label)).astype(np.float32)\n",
    "    label2 = nd.zeros((1, total_per_label)).astype(np.float32)\n",
    "    train_labels = nd.concat(label1, label2, dim=1).reshape(shape=(-1,))\n",
    "    train_data = gdata.dataset.ArrayDataset(train_feature, train_labels)\n",
    "    # create the class for testing, unbiased\n",
    "    X, y = mnist_test[:]\n",
    "    index1 = np.where(np.logical_or(y==3, y==6))[0]\n",
    "    index2 = np.where(np.logical_or(y==5, y==7))[0]\n",
    "    class1 = X[index1]\n",
    "    class2 = X[index2]\n",
    "    test_feature = nd.concat(class1, class2, dim=0)\n",
    "    \n",
    "    label1 = nd.ones((1, 2000)).astype(np.float32)\n",
    "    label2 = nd.zeros((1, 2000)).astype(np.float32)\n",
    "    test_labels = nd.concat(label1, label2, dim=1).reshape(shape=(-1,))\n",
    "    test_data = gdata.dataset.ArrayDataset(test_feature, test_labels)\n",
    "    \n",
    "    return train_data, test_data"
   ]
  },
  {
   "cell_type": "code",
   "execution_count": 14,
   "metadata": {},
   "outputs": [],
   "source": [
    "def train_and_test_mnist(train_data, test_data, batch_size, lr, num_epochs):\n",
    "    net = nn.Sequential()\n",
    "    net.add(nn.Dense(2))\n",
    "    net.initialize(init.Normal(sigma=0.01))\n",
    "    loss = gluon.loss.SoftmaxCrossEntropyLoss()\n",
    "    #loss = logistic_loss\n",
    "    trainer = gluon.Trainer(net.collect_params(), 'sgd', {'learning_rate': lr})\n",
    "    d2l.train_ch3(net, train_data, test_data, loss, num_epochs, batch_size, None, None, trainer)"
   ]
  },
  {
   "cell_type": "code",
   "execution_count": 15,
   "metadata": {},
   "outputs": [
    {
     "name": "stdout",
     "output_type": "stream",
     "text": [
      "epoch 1, loss 42165.6241, train acc 0.370, test acc 0.643\n",
      "epoch 2, loss 5175.9153, train acc 0.830, test acc 0.955\n",
      "epoch 3, loss 398.0108, train acc 0.990, test acc 0.958\n",
      "epoch 4, loss 298.5734, train acc 0.990, test acc 0.961\n",
      "epoch 5, loss 199.1360, train acc 0.990, test acc 0.964\n",
      "epoch 1, loss 76.4225, train acc 0.994, test acc 0.999\n",
      "epoch 2, loss 17.0642, train acc 0.999, test acc 0.999\n",
      "epoch 3, loss 9.3493, train acc 0.999, test acc 0.999\n",
      "epoch 4, loss 8.1944, train acc 0.999, test acc 0.998\n",
      "epoch 5, loss 7.4239, train acc 0.999, test acc 0.999\n"
     ]
    }
   ],
   "source": [
    "# half the dataset \n",
    "# note: use half the dataset, test acc is almost the same as using the full dataset\n",
    "# so I used just 50 per label for train (total 100 for training), which leads to\n",
    "# observable difference in test acc (~.975 v.s. ~.999)\n",
    "train_data, test_data = preprocess(mnist_train, mnist_test, total_per_label=50, ratio=0.5) # ratio=.5 for equally division\n",
    "batch_size = 64\n",
    "train_data = gluon.data.DataLoader(train_data, batch_size=batch_size, shuffle=True)\n",
    "test_data = gluon.data.DataLoader(test_data, batch_size=batch_size, shuffle=True)\n",
    "train_and_test_mnist(train_data, test_data, batch_size=batch_size, lr=0.1, num_epochs=5)\n",
    "# full dataset\n",
    "train_data, test_data = preprocess(mnist_train, mnist_test, total_per_label=12000, ratio=0.5) # ration=.5 for equally division\n",
    "batch_size = 64\n",
    "train_data = gluon.data.DataLoader(train_data, batch_size=batch_size, shuffle=True)\n",
    "test_data = gluon.data.DataLoader(test_data, batch_size=batch_size, shuffle=True)\n",
    "train_and_test_mnist(train_data, test_data, batch_size=batch_size, lr=0.1, num_epochs=5)"
   ]
  },
  {
   "cell_type": "markdown",
   "metadata": {},
   "source": [
    "## 2. Covariate Shift\n",
    "\n",
    "Your goal is to introduce covariate shit in the data and observe the accuracy. For this, compose a dataset of $12,000$ observations, given by a mixture of `shirt` and `sweater` and of `sandal` and `sneaker` respectively, where you use a fraction $\\lambda \\in \\{0.05, 0.1, 0.2, \\ldots 0.8, 0.9, 0.95\\}$ of one and a fraction of $1-\\lambda$ of  the other datasets respectively. For instance, you might pick for $\\lambda = 0.1$ a total of $600$ `shirt` and $600$ `sweater` images and likewise $5,400$ `sandal` and $5,400$ `sneaker` photos, yielding a total of $12,000$ images for training. Note that the test set remains unbiased, composed of $2,000$ photos for the `shirt` + `sweater` category and of the `sandal` + `sneaker` category each.\n",
    "\n",
    "1. Generate training sets that are appropriately biased. You should have 11 datasets.\n",
    "2. Train a binary classifier using this and report the test set accuracy on the unbiased test set. "
   ]
  },
  {
   "cell_type": "code",
   "execution_count": 9,
   "metadata": {
    "scrolled": false
   },
   "outputs": [
    {
     "name": "stdout",
     "output_type": "stream",
     "text": [
      "Bias ratio now is: 0.05\n",
      "epoch 1, loss 946.5304, train acc 0.827, test acc 0.742\n",
      "epoch 2, loss 487.6180, train acc 0.874, test acc 0.767\n",
      "epoch 3, loss 477.9550, train acc 0.880, test acc 0.763\n",
      "epoch 4, loss 489.1529, train acc 0.881, test acc 0.797\n",
      "epoch 5, loss 517.8113, train acc 0.881, test acc 0.795\n",
      "Bias ratio now is: 0.1 \n",
      "epoch 1, loss 1050.4910, train acc 0.805, test acc 0.938\n",
      "epoch 2, loss 761.9554, train acc 0.832, test acc 0.739\n",
      "epoch 3, loss 689.2948, train acc 0.845, test acc 0.833\n",
      "epoch 4, loss 649.4030, train acc 0.849, test acc 0.779\n",
      "epoch 5, loss 635.0590, train acc 0.847, test acc 0.739\n",
      "Bias ratio now is: 0.2 \n",
      "epoch 1, loss 1073.4767, train acc 0.777, test acc 0.818\n",
      "epoch 2, loss 781.6122, train acc 0.802, test acc 0.828\n",
      "epoch 3, loss 788.6811, train acc 0.800, test acc 0.834\n",
      "epoch 4, loss 731.6807, train acc 0.813, test acc 0.833\n",
      "epoch 5, loss 784.2973, train acc 0.809, test acc 0.803\n",
      "Bias ratio now is: 0.3 \n",
      "epoch 1, loss 868.0672, train acc 0.790, test acc 0.862\n",
      "epoch 2, loss 721.0283, train acc 0.804, test acc 0.914\n",
      "epoch 3, loss 723.7051, train acc 0.810, test acc 0.865\n",
      "epoch 4, loss 653.6367, train acc 0.811, test acc 0.987\n",
      "epoch 5, loss 733.5715, train acc 0.810, test acc 0.957\n",
      "Bias ratio now is: 0.4 \n",
      "epoch 1, loss 580.9914, train acc 0.849, test acc 0.926\n",
      "epoch 2, loss 412.3913, train acc 0.861, test acc 0.998\n",
      "epoch 3, loss 414.6032, train acc 0.864, test acc 0.953\n",
      "epoch 4, loss 414.1896, train acc 0.866, test acc 0.889\n",
      "epoch 5, loss 407.4694, train acc 0.867, test acc 0.842\n",
      "Bias ratio now is: 0.5 (unbiased)\n",
      "epoch 1, loss 6.6940, train acc 0.992, test acc 0.998\n",
      "epoch 2, loss 1.5645, train acc 0.999, test acc 0.999\n",
      "epoch 3, loss 0.7090, train acc 0.999, test acc 0.999\n",
      "epoch 4, loss 0.2014, train acc 0.999, test acc 0.998\n",
      "epoch 5, loss 0.2758, train acc 0.999, test acc 0.999\n",
      "Bias ratio now is: 0.6 \n",
      "epoch 1, loss 2069.6729, train acc 0.838, test acc 0.789\n",
      "epoch 2, loss 1761.1818, train acc 0.852, test acc 0.987\n",
      "epoch 3, loss 1733.0347, train acc 0.853, test acc 0.913\n",
      "epoch 4, loss 1774.1211, train acc 0.852, test acc 0.777\n",
      "epoch 5, loss 1797.5987, train acc 0.855, test acc 0.718\n",
      "Bias ratio now is: 0.7 \n",
      "epoch 1, loss 3412.8353, train acc 0.776, test acc 0.806\n",
      "epoch 2, loss 3022.0141, train acc 0.796, test acc 0.786\n",
      "epoch 3, loss 2813.5574, train acc 0.801, test acc 0.944\n",
      "epoch 4, loss 3012.0314, train acc 0.799, test acc 0.927\n",
      "epoch 5, loss 2865.1179, train acc 0.800, test acc 0.753\n",
      "Bias ratio now is: 0.8 \n",
      "epoch 1, loss 3431.0841, train acc 0.772, test acc 0.791\n",
      "epoch 2, loss 2791.1557, train acc 0.794, test acc 0.744\n",
      "epoch 3, loss 2659.9277, train acc 0.798, test acc 0.745\n",
      "epoch 4, loss 2468.1158, train acc 0.800, test acc 0.843\n",
      "epoch 5, loss 2769.9640, train acc 0.800, test acc 0.830\n",
      "Bias ratio now is: 0.95\n",
      "epoch 1, loss 2019.1546, train acc 0.842, test acc 0.767\n",
      "epoch 2, loss 1488.1922, train acc 0.869, test acc 0.758\n",
      "epoch 3, loss 1289.2769, train acc 0.876, test acc 0.785\n",
      "epoch 4, loss 1264.3558, train acc 0.877, test acc 0.766\n",
      "epoch 5, loss 1208.4159, train acc 0.882, test acc 0.852\n"
     ]
    }
   ],
   "source": [
    "total_per_label = 6000\n",
    "num_epochs = 5\n",
    "print(\"Bias ratio now is:\", .05)\n",
    "train_data, test_data = preprocess(mnist_train, mnist_test, total_per_label=total_per_label, ratio=0.05)\n",
    "batch_size = 64\n",
    "train_data = gluon.data.DataLoader(train_data, batch_size=batch_size, shuffle=True)\n",
    "test_data = gluon.data.DataLoader(test_data, batch_size=batch_size, shuffle=True)\n",
    "train_and_test_mnist(train_data, test_data, batch_size=batch_size, lr=0.01, num_epochs=num_epochs)\n",
    "for r in range(1, 9, 1):\n",
    "    ratio = r / 10.0\n",
    "    print(\"Bias ratio now is:\", ratio, \"(unbiased)\" if ratio==.5 else \"\")\n",
    "    train_data, test_data = preprocess(mnist_train, mnist_test, total_per_label=total_per_label, ratio=ratio)\n",
    "    batch_size = 64\n",
    "    train_data = gluon.data.DataLoader(train_data, batch_size=batch_size, shuffle=True)\n",
    "    test_data = gluon.data.DataLoader(test_data, batch_size=batch_size, shuffle=True)\n",
    "    train_and_test_mnist(train_data, test_data, batch_size=batch_size, lr=0.01, num_epochs=num_epochs)\n",
    "print(\"Bias ratio now is:\", .95)\n",
    "train_data, test_data = preprocess(mnist_train, mnist_test, total_per_label=total_per_label, ratio=0.95)\n",
    "batch_size = 64\n",
    "train_data = gluon.data.DataLoader(train_data, batch_size=batch_size, shuffle=True)\n",
    "test_data = gluon.data.DataLoader(test_data, batch_size=batch_size, shuffle=True)\n",
    "train_and_test_mnist(train_data, test_data, batch_size=batch_size, lr=0.01, num_epochs=num_epochs)"
   ]
  },
  {
   "cell_type": "markdown",
   "metadata": {},
   "source": [
    "## 3. Covariate Shift Correction\n",
    "\n",
    "Having observed that covariate shift can be harmful, let's try fixing it. For this we first need to compute the appropriate propensity scores $\\frac{dp(x)}{dq(x)}$. For this purpose pick a biased dataset, let's say with $\\lambda = 0.1$ and try to fix the covariate shift.\n",
    "\n",
    "1. When training a logistic regression binary classifier to fix covariate shift, we assumed so far that both sets are of equal size. Show that re-weighting data in training and test set appropriately can help address the issue when both datasets have different size. What is the weighting?\n",
    "    - We can set the weights as $.5/\\lambda$ for the class with fraction $\\lambda$, and $.5/(1-\\lambda)$ for the class with fraction $1-\\lambda$.\n",
    "2. Train a binary classifier (using logistic regression) distinguishing between the biased training set and the unbiased test set. Note - you need to weigh the data. \n",
    "3. Use the scores to compute weights on the training set. Do they match the weight arising from the biasing distribution $\\lambda$? \n",
    "4. Train a binary classifier of the covariate shifted problem using the weights obtained previously and report the accuracy. Note - you will need to modify the training loop slightly such that you can compute the gradient of a weighted sum of losses. \n"
   ]
  },
  {
   "cell_type": "code",
   "execution_count": 110,
   "metadata": {},
   "outputs": [],
   "source": [
    "# a new preprocess procedure, -1/1 for two labels\n",
    "def preprocess(mnist_train, mnist_test, total_per_label, ratio): # ration is the lambda above\n",
    "    X, y = mnist_train[:]\n",
    "    # pick up the indices\n",
    "    index_sweater = np.where(y==3)[0]\n",
    "    index_shirt = np.where(y==6)[0]\n",
    "    index_scandal = np.where(y==5)[0]\n",
    "    index_sneaker = np.where(y==7)[0]\n",
    "    # create the class for training, biased\n",
    "    class_sweater = X[index_sweater[0:round(total_per_label*ratio)]]\n",
    "    class_shirt = X[index_shirt[0:round(total_per_label*ratio)]]\n",
    "    class_scandal = X[index_scandal[0:round(total_per_label*(1-ratio))]]\n",
    "    class_sneaker = X[index_sneaker[0:round(total_per_label*(1-ratio))]]\n",
    "    # print(class_sweater.shape, class_shirt.shape, class_scandal.shape, class_sneaker.shape)\n",
    "    train_feature = nd.concat(class_sweater, class_shirt, class_scandal, class_sneaker, dim=0)\n",
    "    train_feature = nd.flatten(train_feature)\n",
    "    label1 = nd.ones((1, total_per_label)).astype(np.float32)\n",
    "    label2 = nd.zeros((1, total_per_label)).astype(np.float32)\n",
    "    train_labels = nd.concat(label1, label2, dim=1).reshape(shape=(-1,))\n",
    "    train_data = gdata.dataset.ArrayDataset(train_feature, train_labels)\n",
    "    # create the class for testing, unbiased\n",
    "    X, y = mnist_test[:]\n",
    "    index1 = np.where(np.logical_or(y==3, y==6))[0]\n",
    "    index2 = np.where(np.logical_or(y==5, y==7))[0]\n",
    "    class1 = X[index1]\n",
    "    class2 = X[index2]\n",
    "    test_feature = nd.concat(class1, class2, dim=0)\n",
    "    test_feature = nd.flatten(test_feature)\n",
    "    label1 = nd.ones((1, 2000)).astype(np.float32)\n",
    "    label2 = nd.zeros((1, 2000)).astype(np.float32)\n",
    "    test_labels = nd.concat(label1, label2, dim=1).reshape(shape=(-1,))\n",
    "    test_data = gdata.dataset.ArrayDataset(test_feature, test_labels)\n",
    "    return train_data, test_data"
   ]
  },
  {
   "cell_type": "code",
   "execution_count": 116,
   "metadata": {},
   "outputs": [],
   "source": [
    "# preperations\n",
    "# loss function\n",
    "def logistic(z):\n",
    "    return 1. / (1. + nd.exp(-z))\n",
    "# loss function\n",
    "def log_loss(output, y, ratio):\n",
    "    yhat = logistic(output)\n",
    "    yhat = yhat.reshape(shape=y.shape)\n",
    "    return  - nd.nansum(.5/ratio * y * nd.log(yhat) + .5/(1-ratio) * (1-y) * nd.log(1-yhat))\n",
    "# train_model\n",
    "def train_model(epochs, train_data, net, trainer, batch_size, ratio):\n",
    "    for e in range(epochs):\n",
    "        cumulative_loss = 0\n",
    "        for i, (data, label) in enumerate(train_data):\n",
    "            with autograd.record():\n",
    "                output = net(data)\n",
    "                # print('weigth of net:', net.bias.data(), net.weight.data())\n",
    "                # print('output of net:', output)\n",
    "                loss = log_loss(output, label, ratio)\n",
    "            loss.backward()\n",
    "            trainer.step(batch_size)\n",
    "            cumulative_loss += nd.sum(loss).asscalar()\n",
    "        print(\"Epoch %s, loss: %s\" % (e, cumulative_loss ))\n",
    "# test_model\n",
    "def test_model(test_data):\n",
    "    num_correct = 0.0\n",
    "    num_total = 0\n",
    "    for i, (data, label) in enumerate(test_data):\n",
    "        num_total += len(label)\n",
    "        output = net(data)\n",
    "        prediction = ((nd.sign(output).reshape(shape=label.shape) + 1) / 2)\n",
    "        num_correct += nd.sum(prediction == label)\n",
    "    print(\"Accuracy: %0.3f (%s/%s)\" % (num_correct.asscalar()/num_total, num_correct.asscalar(), num_total))"
   ]
  },
  {
   "cell_type": "code",
   "execution_count": 118,
   "metadata": {
    "scrolled": true
   },
   "outputs": [],
   "source": [
    "def train_and_test_mnist_ratio(train_data, test_data, net, trainer, num_epochs, batch_size, ratio):\n",
    "    train_data, test_data = preprocess(mnist_train, mnist_test, total_per_label, ratio)\n",
    "    train_data = gluon.data.DataLoader(train_data, batch_size=batch_size, shuffle=True)\n",
    "    test_data = gluon.data.DataLoader(test_data, batch_size=batch_size, shuffle=True)\n",
    "    train_model(num_epochs, train_data, net, trainer, batch_size, ratio)\n",
    "    test_model(test_data)"
   ]
  },
  {
   "cell_type": "code",
   "execution_count": null,
   "metadata": {},
   "outputs": [
    {
     "name": "stdout",
     "output_type": "stream",
     "text": [
      "Epoch 0, loss: 2237.4305810928345\n",
      "Epoch 1, loss: 805.3088803291321\n",
      "Epoch 2, loss: 586.0701673030853\n",
      "Epoch 3, loss: 478.95816826820374\n",
      "Epoch 4, loss: 412.94981050491333\n",
      "Epoch 5, loss: 367.19009041786194\n",
      "Epoch 6, loss: 332.8466372489929\n",
      "Epoch 7, loss: 306.0613153576851\n",
      "Epoch 8, loss: 284.4668157696724\n"
     ]
    }
   ],
   "source": [
    "mnist_train = gdata.vision.FashionMNIST(train=True, transform = lambda data, label:\\\n",
    "                                        (data.astype(np.float32)/255.0, label))\n",
    "mnist_test = gdata.vision.FashionMNIST(train=False, transform = lambda data, label:\\\n",
    "                                        (data.astype(np.float32)/255.0, label))\n",
    "train_data, test_data = preprocess(mnist_train, mnist_test, total_per_label, ratio)\n",
    "train_data = gluon.data.DataLoader(train_data, batch_size=batch_size, shuffle=True)\n",
    "test_data = gluon.data.DataLoader(test_data, batch_size=batch_size, shuffle=True)\n",
    "net = nn.Dense(1)\n",
    "net.collect_params().initialize(mx.init.Normal(sigma=.1))\n",
    "trainer = gluon.Trainer(net.collect_params(), 'sgd', {'learning_rate': 0.03})\n",
    "batch_size = 128\n",
    "total_per_label = 6000\n",
    "ratio = 0.5\n",
    "num_epochs = 10\n",
    "train_and_test_mnist_ratio(train_data, test_data, net, trainer, num_epochs, batch_size, ratio)"
   ]
  },
  {
   "cell_type": "markdown",
   "metadata": {},
   "source": [
    "### For question 3.2"
   ]
  },
  {
   "cell_type": "code",
   "execution_count": null,
   "metadata": {},
   "outputs": [],
   "source": []
  }
 ],
 "metadata": {
  "kernelspec": {
   "display_name": "Python 3",
   "language": "python",
   "name": "python3"
  },
  "language_info": {
   "codemirror_mode": {
    "name": "ipython",
    "version": 3
   },
   "file_extension": ".py",
   "mimetype": "text/x-python",
   "name": "python",
   "nbconvert_exporter": "python",
   "pygments_lexer": "ipython3",
   "version": "3.6.8"
  }
 },
 "nbformat": 4,
 "nbformat_minor": 2
}
